{
 "cells": [
  {
   "cell_type": "code",
   "execution_count": 1,
   "metadata": {},
   "outputs": [],
   "source": [
    "import sys\n",
    "import os\n",
    "from datetime import datetime\n",
    "import mlflow\n",
    "import numpy as np\n",
    "import pandas as pd\n",
    "from sklearn.metrics import classification_report\n",
    "import mlflow\n",
    "import os\n",
    "import json\n",
    "sys.path.insert(1, '../')\n",
    "\n",
    "\n",
    "from src.utils import my_yf_download, get_sp500_tickers\n",
    "from src.models.predictive_sma20_crossover_model import PredictiveSma20CrossoverModel\n",
    "from src.models.predictive_macd_crossover_model import PredictiveMacdCrossoverModel\n",
    "from src.models.bollinger_bands_metalabel import BollingerBandsMetalabel\n",
    "from src.models.rolling_precision_recall_model import RollingPrecisionRecallModel\n",
    "from src.data_processing import check_if_today_starts_with_vertical_green_overlay\n",
    "from src.cache_utils import load_model\n",
    "from src.plotting_utils import (\n",
    "    plot_candlesticks,\n",
    ")"
   ]
  },
  {
   "cell_type": "code",
   "execution_count": 2,
   "metadata": {},
   "outputs": [],
   "source": [
    "tickers = get_sp500_tickers()"
   ]
  },
  {
   "cell_type": "markdown",
   "metadata": {},
   "source": [
    "### Download data so training would feel faster"
   ]
  },
  {
   "cell_type": "code",
   "execution_count": 3,
   "metadata": {
    "scrolled": true
   },
   "outputs": [],
   "source": [
    "today = datetime.today()\n",
    "today_str = today.strftime('%Y-%m-%d')\n",
    "\n",
    "end_date = today_str\n",
    "for ticker in tickers:\n",
    "    my_yf_download(ticker, \"../cache\", end=end_date)"
   ]
  },
  {
   "cell_type": "markdown",
   "metadata": {},
   "source": [
    "### Select strategy"
   ]
  },
  {
   "cell_type": "code",
   "execution_count": 4,
   "metadata": {},
   "outputs": [],
   "source": [
    "model_names = [\n",
    "        \"RollingPrecisionRecallModel\",\n",
    "        'BollingerBandsMetalabel',\n",
    "        \"PredictiveMacdCrossoverModel\",\n",
    "        \"PredictiveSma20CrossoverModel\",\n",
    "    ]\n",
    "selected_model_class = globals()[model_names[3]]"
   ]
  },
  {
   "cell_type": "code",
   "execution_count": 5,
   "metadata": {},
   "outputs": [],
   "source": [
    "last_n_days = \"30\"\n",
    "train_until = \"2019-01-01\""
   ]
  },
  {
   "cell_type": "markdown",
   "metadata": {},
   "source": [
    "### Scan"
   ]
  },
  {
   "cell_type": "code",
   "execution_count": 6,
   "metadata": {},
   "outputs": [
    {
     "name": "stdout",
     "output_type": "stream",
     "text": [
      "Column 'Date' converted to datetime.\n"
     ]
    },
    {
     "name": "stderr",
     "output_type": "stream",
     "text": [
      "2024-01-19 23:12:16.602 \n",
      "  \u001b[33m\u001b[1mWarning:\u001b[0m to view this Streamlit app on a browser, run it with the following\n",
      "  command:\n",
      "\n",
      "    streamlit run C:\\Users\\doraemon\\anaconda3\\envs\\rfenv\\lib\\site-packages\\ipykernel_launcher.py [ARGUMENTS]\n"
     ]
    },
    {
     "name": "stdout",
     "output_type": "stream",
     "text": [
      "Column 'Date' converted to datetime.\n",
      "Column 'Date' converted to datetime.\n",
      "Column 'Date' converted to datetime.\n",
      "Column 'Date' converted to datetime.\n",
      "Column 'Date' converted to datetime.\n",
      "Column 'Date' converted to datetime.\n",
      "Column 'Date' converted to datetime.\n",
      "Column 'Date' converted to datetime.\n",
      "Column 'Date' converted to datetime.\n",
      "Column 'Date' converted to datetime.\n",
      "Column 'Date' converted to datetime.\n",
      "Column 'Date' converted to datetime.\n",
      "Column 'Date' converted to datetime.\n",
      "Column 'Date' converted to datetime.\n",
      "Column 'Date' converted to datetime.\n",
      "Column 'Date' converted to datetime.\n",
      "Column 'Date' converted to datetime.\n",
      "Column 'Date' converted to datetime.\n",
      "Column 'Date' converted to datetime.\n",
      "Column 'Date' converted to datetime.\n",
      "Column 'Date' converted to datetime.\n",
      "Column 'Date' converted to datetime.\n",
      "Column 'Date' converted to datetime.\n",
      "Column 'Date' converted to datetime.\n",
      "Column 'Date' converted to datetime.\n",
      "Column 'Date' converted to datetime.\n",
      "Column 'Date' converted to datetime.\n",
      "Column 'Date' converted to datetime.\n",
      "Column 'Date' converted to datetime.\n",
      "Column 'Date' converted to datetime.\n",
      "Column 'Date' converted to datetime.\n",
      "Column 'Date' converted to datetime.\n",
      "Column 'Date' converted to datetime.\n",
      "Column 'Date' converted to datetime.\n",
      "Column 'Date' converted to datetime.\n",
      "Column 'Date' converted to datetime.\n",
      "Column 'Date' converted to datetime.\n",
      "Column 'Date' converted to datetime.\n",
      "Column 'Date' converted to datetime.\n",
      "Column 'Date' converted to datetime.\n",
      "Column 'Date' converted to datetime.\n",
      "Column 'Date' converted to datetime.\n",
      "Column 'Date' converted to datetime.\n",
      "Column 'Date' converted to datetime.\n",
      "Column 'Date' converted to datetime.\n",
      "Column 'Date' converted to datetime.\n",
      "Column 'Date' converted to datetime.\n",
      "Column 'Date' converted to datetime.\n",
      "Column 'Date' converted to datetime.\n"
     ]
    }
   ],
   "source": [
    "\n",
    "# Directory for saving artifacts of this run\n",
    "os.makedirs(\"mlflow_artifacts\", exist_ok=True)\n",
    "mlist = []\n",
    "\n",
    "# too large text to log\n",
    "keys_to_exclude = ['x_train', 'x_test', 'df_test']\n",
    "\n",
    "\n",
    "with mlflow.start_run(run_name=f'Main Training Run for model {model_names[0]}') as parent_run:\n",
    "    # only first 50 stocks\n",
    "    for so in tickers[:50]:\n",
    "        with mlflow.start_run(run_name=f'Training for {so}', nested=True):\n",
    "            model = selected_model_class(so, train_until, data_source=\"yf\")\n",
    "            # Train model results\n",
    "            model_results = model.run_train()\n",
    "            mlflow.log_param(\"Stock\", so)\n",
    "            \n",
    "            # logging individual components of model_results'\n",
    "            if isinstance(model_results, dict) == False:\n",
    "                model_results =  model_results.to_dict()\n",
    "            for key, value in model_results.items():\n",
    "                if key not in keys_to_exclude:\n",
    "                    if isinstance(value, (pd.core.series.Series, pd.DataFrame)):\n",
    "                        array_str = np.array2string(value.values[:10], separator=', ')\n",
    "                        mlflow.log_param(key, array_str)\n",
    "                    else:\n",
    "                        mlflow.log_param(key, value)\n",
    "            \n",
    "            for phase, prefix in [(\"y_train\", \"train\"), (\"y_test\", \"test\")]:\n",
    "                y_true = model_results[phase]\n",
    "                y_pred = model_results[f\"{phase}_pred\"]\n",
    "                report = classification_report(y_true, y_pred)\n",
    "                timestamp = datetime.now().strftime(\"%Y-%m-%d_%H-%M-%S\")\n",
    "                report_file = f\"mlflow_artifacts/classification_report_{prefix}_{so}_{timestamp}.txt\"\n",
    "                with open(report_file, \"w\") as f:\n",
    "                    f.write(report)\n",
    "                mlflow.log_artifact(report_file)\n",
    "\n",
    "\n",
    "            if (model_results[\"train_accuracy\"] > 0.6\n",
    "                and model_results[\"test_accuracy\"] > 0.6\n",
    "                and model_results[\"test_precision\"] > 0.6\n",
    "                and model_results[\"train_precision\"] > 0.6\n",
    "                ):\n",
    "                df_test = model.run_test(\n",
    "                    so, last_n_days, data_source=\"yf\"\n",
    "                )\n",
    "                if check_if_today_starts_with_vertical_green_overlay(df_test):\n",
    "                    mlist.append(so)\n",
    "                    \n",
    "    mlflow.log_param(\"mlist\", mlist)\n",
    "            \n",
    "with mlflow.start_run(run_name=f'Main Testing Run for model {model_names[0]}') as parent_run:\n",
    "    for so in tickers[:50]:\n",
    "        model = selected_model_class(so, train_until, data_source=\"yf\")\n",
    "        df_test = model.run_test(\n",
    "                    so, last_n_days, data_source=\"yf\"\n",
    "                )\n",
    "        timestamp = datetime.now().strftime(\"%Y-%m-%d_%H-%M-%S\")\n",
    "        chart_file = f\"mlflow_artifacts/plot_test_{so}_{timestamp}.html\"\n",
    "        plot_candlesticks(df_test, chart_file)\n",
    "        mlflow.log_artifact(chart_file)\n"
   ]
  },
  {
   "cell_type": "code",
   "execution_count": null,
   "metadata": {},
   "outputs": [],
   "source": []
  },
  {
   "cell_type": "code",
   "execution_count": null,
   "metadata": {},
   "outputs": [],
   "source": [
    "\n"
   ]
  },
  {
   "cell_type": "code",
   "execution_count": null,
   "metadata": {},
   "outputs": [],
   "source": []
  },
  {
   "cell_type": "code",
   "execution_count": null,
   "metadata": {},
   "outputs": [],
   "source": []
  },
  {
   "cell_type": "code",
   "execution_count": null,
   "metadata": {},
   "outputs": [],
   "source": []
  },
  {
   "cell_type": "code",
   "execution_count": null,
   "metadata": {},
   "outputs": [],
   "source": []
  },
  {
   "cell_type": "code",
   "execution_count": null,
   "metadata": {},
   "outputs": [],
   "source": []
  },
  {
   "cell_type": "code",
   "execution_count": null,
   "metadata": {},
   "outputs": [],
   "source": []
  }
 ],
 "metadata": {
  "kernelspec": {
   "display_name": "Python 3 (ipykernel)",
   "language": "python",
   "name": "python3"
  },
  "language_info": {
   "codemirror_mode": {
    "name": "ipython",
    "version": 3
   },
   "file_extension": ".py",
   "mimetype": "text/x-python",
   "name": "python",
   "nbconvert_exporter": "python",
   "pygments_lexer": "ipython3",
   "version": "3.10.13"
  }
 },
 "nbformat": 4,
 "nbformat_minor": 4
}
